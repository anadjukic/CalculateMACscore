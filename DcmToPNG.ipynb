{
 "cells": [
  {
   "cell_type": "code",
   "execution_count": null,
   "id": "e3f8523e",
   "metadata": {},
   "outputs": [],
   "source": [
    "import numpy as np\n",
    "from PIL import Image\n",
    "import os \n",
    "import pydicom as dicom\n",
    "import matplotlib.pylab as plt"
   ]
  },
  {
   "cell_type": "code",
   "execution_count": null,
   "id": "62851f88",
   "metadata": {},
   "outputs": [],
   "source": [
    "save_path = './' # choose your saving point ## /Users/adjukic/Desktop/pngall/"
   ]
  },
  {
   "cell_type": "code",
   "execution_count": null,
   "id": "e10a46b8",
   "metadata": {},
   "outputs": [],
   "source": [
    "patient_folder_path = \"/Users/adjukic/Desktop/DiabeticFootSyndrome/DICOMDATA/Patients\"\n",
    "patient_folder = os.scandir(patient_folder_path)\n",
    "\n",
    "for patient in patient_folder:\n",
    "    dates = os.scandir(patient)\n",
    "    for date in dates: \n",
    "        records = os.scandir(date)\n",
    "        for record in records:\n",
    "            file = os.scandir(record)\n",
    "            file_path = next(file).path\n",
    "            file_name = file_path.split(\"/\")[-1].split(\".\")[0]\n",
    "            ds = dicom.dcmread(file_path)\n",
    "            new_image = ds.pixel_array.astype(float)\n",
    "            scaled_image = (np.maximum(new_image, 0) / new_image.max()) * 255.0\n",
    "            scaled_image = np.uint8(scaled_image)\n",
    "            final_image = Image.fromarray(scaled_image)\n",
    "#             final_image.show()\n",
    "            final_image.save(f'{save_path}patient{patient.name}_{date.name}_{record.name}_{file_name}.png')"
   ]
  }
 ],
 "metadata": {
  "kernelspec": {
   "display_name": "Python 3",
   "language": "python",
   "name": "python3"
  },
  "language_info": {
   "codemirror_mode": {
    "name": "ipython",
    "version": 3
   },
   "file_extension": ".py",
   "mimetype": "text/x-python",
   "name": "python",
   "nbconvert_exporter": "python",
   "pygments_lexer": "ipython3",
   "version": "3.9.5"
  }
 },
 "nbformat": 4,
 "nbformat_minor": 5
}
